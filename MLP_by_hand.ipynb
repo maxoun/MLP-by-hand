{
 "cells": [
  {
   "cell_type": "code",
   "execution_count": 1,
   "id": "e42b4bcb-4fbc-45df-b57a-d6a37b6f16c1",
   "metadata": {},
   "outputs": [],
   "source": [
    "import random\n",
    "import numpy as np\n",
    "import matplotlib.pyplot as plt\n",
    "import seaborn as sns\n",
    "from sklearn.datasets import load_digits\n",
    "from sklearn.metrics import accuracy_score"
   ]
  },
  {
   "cell_type": "code",
   "execution_count": 2,
   "id": "8962bfcd-37d5-4eaf-92fb-b58b4d5aa208",
   "metadata": {},
   "outputs": [],
   "source": [
    "digits = load_digits()\n",
    "dataset = [(digits.data[i][None, ...], digits.target[i]) for i in range(len(digits.target))]"
   ]
  },
  {
   "cell_type": "code",
   "execution_count": 3,
   "id": "f1f22d92-d081-495d-96f0-3371b585f6e0",
   "metadata": {},
   "outputs": [],
   "source": [
    "train = dataset[:1700]\n",
    "test = dataset[1700:]"
   ]
  },
  {
   "cell_type": "code",
   "execution_count": 4,
   "id": "23c34241-7f18-45d6-badb-14adfa2e35de",
   "metadata": {},
   "outputs": [],
   "source": [
    "np.random.seed(33)\n",
    "\n",
    "INPUT_DIM = 64 # размер входного слоя\n",
    "OUT_DIM = 10 # размер выходного слоя\n",
    "H_DIM = 40 # размер скрытого слоя\n",
    "LEARNING_RATE = 0.0001\n",
    "NUM_EPOCHS = 50\n",
    "BATCH_SIZE = 100 # размер батча\n",
    "LAMBDA = 1e-4 # коэффициент регуляризации\n",
    "GAMMA = 0.9 # коэффициент момента\n",
    "\n",
    "def relu(t):\n",
    "    return np.maximum(t, 0)\n",
    "\n",
    "def softmax_batch(t):\n",
    "    out = np.exp(t)\n",
    "    return out / np.sum(out, axis=1, keepdims=True)\n",
    "\n",
    "def sparse_cross_entropy_batch(z, y):\n",
    "    return -np.log(np.array([z[j, y[j]] for j in range(len(y))]))\n",
    "\n",
    "def to_full_batch(y, num_classes):\n",
    "    y_full = np.zeros((len(y), num_classes))\n",
    "    for j, yj in enumerate(y):\n",
    "        y_full[j, yj] = 1\n",
    "    return y_full\n",
    "\n",
    "def relu_deriv(t):\n",
    "    return (t >= 0).astype(float)\n",
    "\n",
    "# инициализация весов с упором на функцию активации ReLU\n",
    "W1 = np.random.normal(0.0, np.sqrt(2/INPUT_DIM),(INPUT_DIM, H_DIM))\n",
    "b1 = np.random.normal(0.0, np.sqrt(2/1),(1, H_DIM))\n",
    "W2 = np.random.normal(0.0, np.sqrt(2/H_DIM),(H_DIM, OUT_DIM))\n",
    "b2 = np.random.normal(0.0, np.sqrt(2/1),(1, OUT_DIM))\n",
    "\n",
    "# инициализация матрицы моментов\n",
    "v_W1 = np.zeros_like(W1)\n",
    "v_b1 = np.zeros_like(b1)\n",
    "v_W2 = np.zeros_like(W2)\n",
    "v_b2 = np.zeros_like(b2)\n",
    "\n",
    "# массив с ошибками y-y_hat\n",
    "loss_arr = []\n",
    "\n",
    "for epoch in range(NUM_EPOCHS):\n",
    "    for i in range(len(train) // BATCH_SIZE):\n",
    "        batch_x, batch_y = zip(*dataset[i*BATCH_SIZE : i*BATCH_SIZE+BATCH_SIZE])\n",
    "        x = np.concatenate(batch_x, axis=0)\n",
    "        y = np.array(batch_y)\n",
    "\n",
    "        # Forward\n",
    "        t1 = x @ W1 + b1\n",
    "        h1 = relu(t1)\n",
    "        t2 = h1 @ W2 + b2\n",
    "        z = softmax_batch(t2)\n",
    "        E = np.sum(sparse_cross_entropy_batch(z, y))\n",
    "\n",
    "        # Backward   \n",
    "        y_full = to_full_batch(y, OUT_DIM)\n",
    "        dE_dt2 = z - y_full\n",
    "        dE_dW2 = h1.T @ dE_dt2 + 2 * LAMBDA * W2\n",
    "        dE_db2 = np.sum(dE_dt2, axis=0, keepdims=True)\n",
    "        dE_dh1 = dE_dt2 @ W2.T\n",
    "        dE_dt1 = dE_dh1 * relu_deriv(t1)\n",
    "        dE_dW1 = x.T @ dE_dt1 + 2 * LAMBDA * W1\n",
    "        dE_db1 = np.sum(dE_dt1, axis=0, keepdims=True)\n",
    "        \n",
    "        # Обновление матрицы моментов\n",
    "        v_W1 = GAMMA * v_W1 + LEARNING_RATE * dE_dW1\n",
    "        v_b1 = GAMMA * v_b1 + LEARNING_RATE * dE_db1\n",
    "        v_W2 = GAMMA * v_W2 + LEARNING_RATE * dE_dW2\n",
    "        v_b2 = GAMMA * v_b2 + LEARNING_RATE * dE_db2\n",
    "\n",
    "        # Обновление матрицы весов и векторов смещения\n",
    "        W1 = W1 - v_W1\n",
    "        b1 = b1 - v_b1\n",
    "        W2 = W2 - v_W2\n",
    "        b2 = b2 - v_b2\n",
    "        \n",
    "        loss_arr.append(E)\n",
    "\n",
    "def predict(x):  \n",
    "    t1 = x @ W1 + b1\n",
    "    h1 = relu(t1)\n",
    "    t2 = h1 @ W2 + b2\n",
    "    z = softmax_batch(t2)\n",
    "    return z"
   ]
  },
  {
   "cell_type": "code",
   "execution_count": 5,
   "id": "3b950c02-3146-4320-8580-db34102e8b36",
   "metadata": {},
   "outputs": [],
   "source": [
    "def calc_accuracy():\n",
    "    y_pred = []\n",
    "    y_true = []\n",
    "    for x, y in test:\n",
    "        z = predict(x)\n",
    "        y_pred.append(np.argmax(z))\n",
    "        y_true.append(y)\n",
    "    return accuracy_score(y_true, y_pred)"
   ]
  },
  {
   "cell_type": "code",
   "execution_count": 6,
   "id": "d1c20c8a-156d-468b-83f8-598dbda43015",
   "metadata": {},
   "outputs": [
    {
     "data": {
      "image/png": "[encoded data removed]",
      "text/plain": [
       "<Figure size 360x360 with 1 Axes>"
      ]
     },
     "metadata": {
      "needs_background": "light"
     },
     "output_type": "display_data"
    }
   ],
   "source": [
    "plt.figure(figsize=(5,5))\n",
    "\n",
    "plt.title(f'Loss function \\n Accuracy = {np.round(calc_accuracy(), 4)}', color='black', fontsize=18, fontstyle='italic')\n",
    "plt.plot(loss_arr)\n",
    "plt.show()"
   ]
  },
  {
   "cell_type": "code",
   "execution_count": null,
   "id": "a09c0bb1-a6ac-44ff-95cb-2c8075ae498e",
   "metadata": {},
   "outputs": [],
   "source": []
  }
 ],
 "metadata": {
  "kernelspec": {
   "display_name": "Python 3 (ipykernel)",
   "language": "python",
   "name": "python3"
  },
  "language_info": {
   "codemirror_mode": {
    "name": "ipython",
    "version": 3
   },
   "file_extension": ".py",
   "mimetype": "text/x-python",
   "name": "python",
   "nbconvert_exporter": "python",
   "pygments_lexer": "ipython3",
   "version": "3.8.10"
  }
 },
 "nbformat": 4,
 "nbformat_minor": 5
}
